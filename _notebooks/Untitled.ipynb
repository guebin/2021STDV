{
 "cells": [
  {
   "cell_type": "code",
   "execution_count": 1,
   "id": "26ae9cdd-aba7-493d-a5bd-24b95c0236b1",
   "metadata": {},
   "outputs": [],
   "source": [
    "import pandas as pd "
   ]
  },
  {
   "cell_type": "code",
   "execution_count": 3,
   "id": "de683872-f19a-4f4c-a6d6-458a3d194acc",
   "metadata": {},
   "outputs": [],
   "source": [
    "a=pd.read_csv(\"mid.csv\")"
   ]
  },
  {
   "cell_type": "code",
   "execution_count": 7,
   "id": "2a49f8da-a0ed-4d3b-a076-ec51fa0836c2",
   "metadata": {},
   "outputs": [],
   "source": [
    "a.sort_values(by='mid',ascending=False).to_csv(\"mid.csv\",index=False)"
   ]
  },
  {
   "cell_type": "code",
   "execution_count": null,
   "id": "a3d634f1-f7db-4c4e-9f0d-e25d007ace5b",
   "metadata": {},
   "outputs": [],
   "source": []
  }
 ],
 "metadata": {
  "kernelspec": {
   "display_name": "Python 3 (ipykernel)",
   "language": "python",
   "name": "python3"
  },
  "language_info": {
   "codemirror_mode": {
    "name": "ipython",
    "version": 3
   },
   "file_extension": ".py",
   "mimetype": "text/x-python",
   "name": "python",
   "nbconvert_exporter": "python",
   "pygments_lexer": "ipython3",
   "version": "3.8.11"
  }
 },
 "nbformat": 4,
 "nbformat_minor": 5
}
