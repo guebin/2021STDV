{
 "cells": [
  {
   "cell_type": "markdown",
   "id": "0400e341-d1aa-493c-8c48-75abccfbeb69",
   "metadata": {
    "tags": []
   },
   "source": [
    "# 2021년 2학기 데이터시각화 특강 중간고사\n",
    "\n",
    "- toc:flase\n",
    "- branch: master\n",
    "- badges: flase\n",
    "- comments: flase \n",
    "- author: 최규빈"
   ]
  },
  {
   "cell_type": "code",
   "execution_count": 24,
   "id": "83b21dc2-e43b-41bf-8810-d349f3f39705",
   "metadata": {},
   "outputs": [],
   "source": [
    "# hide\n",
    "import matplotlib.pyplot as plt \n",
    "import seaborn as sns \n",
    "from plotnine import * \n",
    "import cv2 \n",
    "import numpy as np \n",
    "import pandas as pd "
   ]
  },
  {
   "cell_type": "markdown",
   "id": "e9bb3b05-d300-4a80-9544-56658d73acfd",
   "metadata": {},
   "source": [
    "### `1`. 다음은 이미지와 대응하는 히스토그램을 나타낸것이다. 이미지와 히스토그램을 올바르게 짝지어라. (5점)"
   ]
  },
  {
   "cell_type": "markdown",
   "id": "e5342ed1-7407-4077-974c-0b7918af739a",
   "metadata": {},
   "source": [
    "- 예시 a-c, b-d"
   ]
  },
  {
   "cell_type": "markdown",
   "id": "ede910e9-0e96-44b4-b07b-37c52467d2d5",
   "metadata": {},
   "source": [
    "![](https://github.com/guebin/2021DV/blob/master/_notebooks/mid_FIG1.png?raw=true)"
   ]
  },
  {
   "cell_type": "markdown",
   "id": "52f9e080-860c-4627-a4d3-b2ff90242668",
   "metadata": {
    "tags": []
   },
   "source": [
    "### `2`. 주어진 자료를 바탕으로 예시와 같은 시각화를 구현하라. (5점)"
   ]
  },
  {
   "cell_type": "markdown",
   "id": "dcc25697-4c16-4347-a004-e7f09c5e67cd",
   "metadata": {},
   "source": [
    "**자료** \n",
    "\n",
    "```python\n",
    "x=[1,2,3,4]\n",
    "y=[1,2,4,3]\n",
    "```"
   ]
  },
  {
   "cell_type": "markdown",
   "id": "b9774917-b4b8-4dd0-b541-0b71c59acbd2",
   "metadata": {},
   "source": [
    "**시각화예시**"
   ]
  },
  {
   "cell_type": "markdown",
   "id": "692a2f1f-9f9a-4096-bc42-6ee2dd73312a",
   "metadata": {},
   "source": [
    "![](https://github.com/guebin/2021DV/blob/master/_notebooks/mid_FIG2.png?raw=true)"
   ]
  },
  {
   "cell_type": "markdown",
   "id": "4d44b61a-f1d6-4ad4-ad18-d29543390a05",
   "metadata": {},
   "source": [
    "### `3`. 아래는 앤스콤의 플랏이다. 옳게 해석한 사람을 모두 고르라 (5점)"
   ]
  },
  {
   "cell_type": "markdown",
   "id": "bd89e2bb-4e68-482a-8bd1-0c584a5dc049",
   "metadata": {},
   "source": [
    "![](https://github.com/guebin/2021DV/blob/master/_notebooks/mid_FIG3.png?raw=true)"
   ]
  },
  {
   "cell_type": "markdown",
   "id": "1a43c5b4-2e18-4478-8511-6d0e5e4acfa1",
   "metadata": {},
   "source": [
    "(하니) 그림 (a)-(d)는 모두 양의 상관계수를 가진다. \n",
    "\n",
    "(나애리) 그림 (b)는 산점도가 직선이 아니라 곡선의 모양을 띄고 있으므로 상관계수는 0이다. \n",
    "\n",
    "(홍두깨) 그림 (c)에서 상단의 이상치를 제외하면 상관계수는 1이다. \n",
    "\n",
    "(고은애) 그림 (d)의 우측 이상치의 값을 적절하게 바꾸면 (d)의 상관계수를 음수로 만드는 것이 가능하다. \n",
    "\n",
    "(이창수) 그림 (c)역시 상단의 이상치 값을 적절하게 바꾸면 (c)의 상관계수를 음수로 만드는 것이 가능하다. "
   ]
  },
  {
   "cell_type": "markdown",
   "id": "46a14c0e-0626-4f77-8df7-8195dbfa3f5b",
   "metadata": {},
   "source": [
    "### `4`. 다음은 아이스크림 소비량과 소아마비의 관계를 그린 산점도이다. 이때 색깔은 온도가 비슷한 관측치로 그룹핑되었다. 옳은 해석을 모두 골라라. (10점) "
   ]
  },
  {
   "cell_type": "markdown",
   "id": "fb86ada3-106e-4094-bde0-06a446f3a9c7",
   "metadata": {},
   "source": [
    "![](https://github.com/guebin/2021DV/blob/master/_notebooks/mid_FIG4.png?raw=true)"
   ]
  },
  {
   "cell_type": "markdown",
   "id": "f751add6-cb07-47c5-a27b-a43b9ec53415",
   "metadata": {},
   "source": [
    "(하니) 아이스크림과 소아마비는 양의 상관관계에 있다. \n",
    "\n",
    "(나애리) 상관계수의 값이 1에 가까울수록 아이스크림과 소아마비의 인과성이 명확하다고 볼 수 있다. \n",
    "\n",
    "(홍두깨) 비슷한 온도를 가진 관측치에서는 아이스크림과 소아마비의 상관계수가 0에 가깝다. \n",
    "\n",
    "(고은애) 온도를 통제하였을 경우 아이스크림과 소아마비의 상관계수가 0이므로 둘 사이의 인과성이 있다고 보긴 어렵다. "
   ]
  },
  {
   "cell_type": "markdown",
   "id": "3e761a7b-11cd-49fc-bef2-ef52e362af1a",
   "metadata": {},
   "source": [
    "### `5`. FIFA22 (100점) "
   ]
  },
  {
   "cell_type": "markdown",
   "id": "c264a27b-46c4-4769-b08f-973be6ae1c0d",
   "metadata": {},
   "source": [
    "아래의 코드를 활용하여 FIFA22의 자료를 불러온뒤 물음에 답하라. "
   ]
  },
  {
   "cell_type": "markdown",
   "id": "8cc6915b-41eb-4c19-94ff-1bb9d72edcac",
   "metadata": {},
   "source": [
    "```python\n",
    "df=pd.read_csv('https://raw.githubusercontent.com/guebin/2021DV/master/_notebooks/2021-10-25-FIFA22_official_data.csv')\n",
    "```"
   ]
  },
  {
   "cell_type": "markdown",
   "id": "e9b394cd-d148-4852-b050-db7ffd770e0e",
   "metadata": {},
   "source": [
    "#### (a) `Loaned From`,`Marking` 열을 선택하는 코드를 작성하고 값을 확인하라. "
   ]
  },
  {
   "cell_type": "markdown",
   "id": "43b5f407-724d-4031-be39-19df83109c5b",
   "metadata": {},
   "source": [
    "#### (b) 기존의 데이터프레임에서 `Loaned From`, `Marking`열을 제외하는 코드를 작성하라. "
   ]
  },
  {
   "cell_type": "markdown",
   "id": "416252c5-3eaf-496e-89b5-60622457df55",
   "metadata": {},
   "source": [
    "#### (c) (b)의 결과에 `.dropna()`를 사용하여 결측치를 제거하는 코드를 작성하라. 몇개의 결측치가 제거되었는가? "
   ]
  },
  {
   "cell_type": "markdown",
   "id": "1ccc83b4-9a75-4930-bf5d-f5c506470e9c",
   "metadata": {
    "tags": []
   },
   "source": [
    "#### (d) (c)의 결과에 아래의 코드를 활용하여 `Wage`의 값을 적절하게 변환하라. \n",
    "\n",
    "```python\n",
    "### 코드1 \n",
    "def convert_currency(value):\n",
    "    floatvalue = 0.0\n",
    "    strvalue=\"\"\n",
    "    if \"M\" in value:\n",
    "        strvalue=value.replace(\"M\",\"\").replace(\"€\",\"\")\n",
    "        floatvalue=float(float(strvalue)*1000000)\n",
    "    elif \"K\" in value:\n",
    "        strvalue=value.replace(\"K\",\"\").replace(\"€\",\"\")\n",
    "        floatvalue=float(float(strvalue)*1000)\n",
    "    else:\n",
    "        floatvalue=value.replace(\"€\",\"\")\n",
    "    return floatvalue\n",
    "```\n",
    "- 코드출처: https://www.kaggle.com/talhademirezen/cost-effective-youth-players-fifa22"
   ]
  },
  {
   "cell_type": "markdown",
   "id": "ece917f2-5671-4048-9edb-cb1af789beb5",
   "metadata": {},
   "source": [
    "#### (e) 아래의 세부사항에 맞춰서 `Best Position`에 따른 시장가치(`Value`)의 평균을 barplot을 이용하여 시각화 하라. "
   ]
  },
  {
   "cell_type": "markdown",
   "id": "d5286525-5dd9-4609-bd86-b2c10c8def50",
   "metadata": {},
   "source": [
    "- x축을 `Best Position`으로 하고 y축은 `Value`의 평균으로 할 것\n",
    "- `Value`가 가장 높은 3개의 포지션을 다른색으로 하이라이팅 할 것"
   ]
  },
  {
   "cell_type": "markdown",
   "id": "b9167274-00e5-439a-ade8-8bac9946b427",
   "metadata": {},
   "source": [
    "***시각화예시***"
   ]
  },
  {
   "cell_type": "markdown",
   "id": "94f51600-75b5-4d9c-a7fd-b3b196fa2ce6",
   "metadata": {},
   "source": [
    "![](https://github.com/guebin/2021DV/blob/master/_notebooks/mid_FIG5_1.png?raw=true)"
   ]
  },
  {
   "cell_type": "markdown",
   "id": "5e9bd991-77f8-4700-b0d7-2b5460477cb6",
   "metadata": {},
   "source": [
    "#### (f) 아래의 세부사항에 맞추어 (`Dribbling`,`SlidingTackle`)의 산점도를 그려라. "
   ]
  },
  {
   "cell_type": "markdown",
   "id": "247d612b-e0a9-4e90-a6a6-73247b6489ea",
   "metadata": {},
   "source": [
    "***세부사항***\n",
    "\n",
    "(i) `Best Position`의 값을 바탕으로 면분할을 하라. \n",
    "\n",
    "(ii) `Age`를 색으로 표현하라. \n",
    "\n",
    "(iii) 산점도의 투명도는 `alpha=0.5`로 `size=0.5`로 설정할 것."
   ]
  },
  {
   "cell_type": "markdown",
   "id": "8616e2bd-07d4-4237-ba70-e368bef685d5",
   "metadata": {},
   "source": [
    "![](https://github.com/guebin/2021DV/blob/master/_notebooks/mid_FIG5_2.png?raw=true)"
   ]
  },
  {
   "cell_type": "markdown",
   "id": "4060a75c-e43b-4dce-9052-21dce16162d8",
   "metadata": {},
   "source": [
    "#### (g) (f)의 그림을 올바르게 해석한 사람은? "
   ]
  },
  {
   "cell_type": "markdown",
   "id": "41c4211a-6231-4d22-b4f5-0d291aaff18f",
   "metadata": {},
   "source": [
    "(하니) 포지션 `GK`에 있는 선수는 `Dribbling`, `SlidingTackle` 값이 다른포지션대비 상대적으로 낮다. \n",
    "\n",
    "(나애리) 모든 포지션에서 `Dribbling`, `SlidingTackle`은 서로 독립이라 볼 수 있다. \n",
    "\n",
    "(홍두깨) 포지션 `CAM`은 나이와 `Dribbling` 사이에 양의 상관관계에 있다.  \n",
    "\n",
    "(고은애) 포지션 `CB`은 나이와 `Dribbling` 사이에 상관계수가 거의 0이다. "
   ]
  },
  {
   "cell_type": "markdown",
   "id": "fd2e24bf-65da-45be-9d79-48a8125ce91a",
   "metadata": {},
   "source": [
    "#### (h) `Best Position`이 \"CAM\" 혹은 \"CM\"인 플레이어만 골라서 (`Dribbling`,`SlidingTackle`)의 산점도를 그려라. "
   ]
  },
  {
   "cell_type": "markdown",
   "id": "62212269-ec74-4bd7-b13b-1dee157250f1",
   "metadata": {},
   "source": [
    "***세부사항*** \n",
    "\n",
    "- x축: Dribbling, y축: SlidingTackle 로 설정\n",
    "- Value에 따라 점의 크기를 다르게 설정 \n",
    "- 나이에 따라 색깔을 다르게 설정 "
   ]
  },
  {
   "cell_type": "markdown",
   "id": "1e00a2ad-2f4a-4041-9891-74215368b8c2",
   "metadata": {},
   "source": [
    "***시각화예시***"
   ]
  },
  {
   "cell_type": "markdown",
   "id": "9950ad69-5b1b-4452-89e3-a44a39aa0e75",
   "metadata": {},
   "source": [
    "![](https://github.com/guebin/2021DV/blob/master/_notebooks/mid_FIG5_3.png?raw=true)"
   ]
  },
  {
   "cell_type": "markdown",
   "id": "f34764b9-e2cd-4848-bd4e-2b7501602d36",
   "metadata": {},
   "source": [
    "#### (i) 그림 (h)를 올바르게 해석한것을 모두 고르라. "
   ]
  },
  {
   "cell_type": "markdown",
   "id": "bb0610c9-efc9-4128-b9d9-d342b0c4acbe",
   "metadata": {},
   "source": [
    "(하니) `AGE`와 `Value`는 양의 상관관계에 있다. \n",
    "\n",
    "(나애리) 따라서 축구선수는 `AGE`가 증가함 따라 `Value`가 올라가는 것을 알 수 있다. 즉 `AGE`와 `Value`사이에는 인과성이 있다. \n",
    "\n",
    "(홍두깨) 포지션 `CAM`은 `Dribbiling` 능력과 `Value`가 양의 상관관계에 있어보인다. \n",
    "\n",
    "(고은애) 반면에 포지션 `CB`는 `Dribbling` 능력보다는 `SlidingTackle`이 `Value`와 양의 상관관계에 있다고 볼 수 있다. "
   ]
  },
  {
   "cell_type": "markdown",
   "id": "0ac1b021-0163-4183-b80f-404089c5582b",
   "metadata": {},
   "source": [
    "### `6`. 하니의 산책경로 (40점)"
   ]
  },
  {
   "cell_type": "markdown",
   "id": "dabb9414-6ce8-4a35-b83c-1b011729048e",
   "metadata": {},
   "source": [
    "공원에서 뛰는것을 좋아하는 강아지 하니가 있다. 아래는 강아지 하니가 주인과 함께 공원을 산책한 경로이다. 산책코스는 아래와 같이 집에서 공원으로 가는 A코스와 공원에서 집으로 오는 B코스로 나누어진다.  \n",
    "\n",
    "`-` A코스: 집 $\\to$ 카페 $\\to$ 초등학교 정문  $\\to$ 공원\n",
    "\n",
    "`-` B코스: 공원 $\\to$ 초등학교 후문 $\\to$ 동물병원 $\\to$ 집 \n",
    "\n",
    "각 위치의 좌표는 아래와 같다. \n",
    "\n",
    "- 집: (0,0)\n",
    "- 카페: (1,2) \n",
    "- 초등학교 정문: (4,3)\n",
    "- 공원: (5,5)\n",
    "- 초등학교 후문: (4.1,3)\n",
    "- 동물병원: (1,0.5)\n",
    "\n",
    "집에서 출발시에 하니의 체력은 100이며, 각 중간지점에서 하니의 체력은 이동거리에 비례하여 감소한다고 하자. 예를들어 A코스-카페에서 하니의 체력은 아래와 같이 계산할 수 있다. \n",
    "\n",
    "- $100- \\sqrt{1^2+2^2}$\n",
    "\n",
    "또한 하니는 공원정문에서 달리기를 시작하였고 이후에 70의 체력을 소진한뒤 공원후문에 도착하였다고 하자. (즉 공원정문에서하니의 체력이 $x$ 라면 공원후문에서 하니의 체력은 $x-60$ 이다.) \n",
    "\n",
    "하니의 이동경로에 따른 체력의 변화를 시각화 하라. "
   ]
  },
  {
   "cell_type": "markdown",
   "id": "e09883ed-73ec-4797-8b3b-f2fedb9eb0c3",
   "metadata": {},
   "source": [
    "**시각화예시**"
   ]
  },
  {
   "cell_type": "markdown",
   "id": "684f6efd-6cb6-49e6-83b6-a5547925bd6e",
   "metadata": {},
   "source": [
    "![](https://github.com/guebin/2021DV/blob/master/_notebooks/mid_FIG6.png?raw=true)"
   ]
  },
  {
   "cell_type": "markdown",
   "id": "ac503cb6-ad1d-48fc-97a7-ba8efeb5f002",
   "metadata": {},
   "source": [
    "### `7`. 빈칸에 적절한 값을 채워 심슨의 역설을 설명하는 예제를 완성하고 시각화 하라. (30점)"
   ]
  },
  {
   "cell_type": "markdown",
   "id": "bbfc0c05-5ae8-4b5b-9e7b-98fdbc955c4a",
   "metadata": {},
   "source": [
    "다음은 농구선수 A,B의 시즌별 자유투 성공률이다. "
   ]
  },
  {
   "cell_type": "markdown",
   "id": "c0bfd87e-5f0b-4d9d-be31-793f79ab8eb3",
   "metadata": {},
   "source": [
    "| |시즌1|시즌2|\n",
    "|:-:|:-:|:-:|\n",
    "|A선수|7/10|?|\n",
    "|B선수|?|4/4|\n",
    "* 표안의 값은 성공횟수/총자유투시도 "
   ]
  },
  {
   "cell_type": "markdown",
   "id": "8d59b14a-ec2d-46d4-b94d-bdeb0cc626ec",
   "metadata": {},
   "source": [
    "?에 적절한 값을 채워 시즌 1,2 모두 B선수의 자유투 성공률이 높지만 시즌1-2를 전체 합치면 A선수의 자유투 성공률이 더 높도록 하라. (즉 ?에 적절한 값을 채워 심슨의 역설을 섦영하기 위한 자료를 구성하라.) \n",
    "\n",
    "만들어진 자료를 바탕으로 심슨의 역설을 시각화하라. (즉 시즌 1,2의 자유투 성공률과 전체 자유트 성공률을 barplot으로 시각화하라) "
   ]
  }
 ],
 "metadata": {
  "kernelspec": {
   "display_name": "Python 3",
   "language": "python",
   "name": "python3"
  },
  "language_info": {
   "codemirror_mode": {
    "name": "ipython",
    "version": 3
   },
   "file_extension": ".py",
   "mimetype": "text/x-python",
   "name": "python",
   "nbconvert_exporter": "python",
   "pygments_lexer": "ipython3",
   "version": "3.8.8"
  }
 },
 "nbformat": 4,
 "nbformat_minor": 5
}
