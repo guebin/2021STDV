{
 "cells": [
  {
   "cell_type": "markdown",
   "id": "11ae56f7-edaf-47ff-93c0-d8cb20c98020",
   "metadata": {
    "tags": []
   },
   "source": [
    "# (1주차) 9월6일 \n",
    "> 데이터시각화소개, 강의소개, 주피터랩설치 \n",
    "\n",
    "- toc:true\n",
    "- branch: master\n",
    "- badges: true\n",
    "- comments: true\n",
    "- author: 최규빈"
   ]
  },
  {
   "cell_type": "markdown",
   "id": "8dbc105b-e8f0-45f4-a812-81820cc22f4e",
   "metadata": {},
   "source": [
    "### 강의영상 "
   ]
  },
  {
   "cell_type": "markdown",
   "id": "4d9b3c27-f47c-430f-83aa-0628d5dc736f",
   "metadata": {},
   "source": [
    "> youtube: https://youtube.com/playlist?list=PLQqh36zP38-yemJC6mUifbdvAQ-7_NoBc"
   ]
  },
  {
   "cell_type": "markdown",
   "id": "0d041282-5f2d-4bbd-9604-1b12cd1562fe",
   "metadata": {},
   "source": [
    "`-` (1/5): 데이터 시각화 과목에 대한 소개 \n",
    "\n",
    "`-` (2/5): 강의안내 (강의계획서, 질문하는 방법 등) \n",
    "\n",
    "`-` (3/5): 카카오톡 친구추가 안내, 출석처리방식 안내, 구글코랩안내 \n",
    "\n",
    "`-` (4/5): 윈도우에서 주피터랩 설치하는 방법 <- 파이썬입문(2021) 수강하셨던 학생은 안들으셔도 될것 같아요. \n",
    "\n",
    "`-` (5/5): 주피터랩 최초접속시 토큰설정하는 방법, **과제안내** <- 파이썬입문(2021) 수강하셨던 학생은 안들으셔도 될것 같아요. (과제안내만 들으시면 될것같습니다) "
   ]
  },
  {
   "cell_type": "markdown",
   "id": "f6d770d0-e1a7-47e5-b17a-11d057e9b952",
   "metadata": {
    "tags": []
   },
   "source": [
    "### 레포트\n",
    "\n",
    "`-` [카카오톡 스샷제출](https://ieilms.jbnu.ac.kr/)"
   ]
  }
 ],
 "metadata": {
  "kernelspec": {
   "display_name": "Python 3 (ipykernel)",
   "language": "python",
   "name": "python3"
  },
  "language_info": {
   "codemirror_mode": {
    "name": "ipython",
    "version": 3
   },
   "file_extension": ".py",
   "mimetype": "text/x-python",
   "name": "python",
   "nbconvert_exporter": "python",
   "pygments_lexer": "ipython3",
   "version": "3.8.11"
  }
 },
 "nbformat": 4,
 "nbformat_minor": 5
}
