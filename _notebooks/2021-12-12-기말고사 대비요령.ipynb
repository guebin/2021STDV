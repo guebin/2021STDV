{
 "cells": [
  {
   "cell_type": "markdown",
   "id": "c195040b-792b-42d3-a7b9-4165ea2dd8da",
   "metadata": {},
   "source": [
    "# 기말고사 대비요령"
   ]
  },
  {
   "cell_type": "markdown",
   "id": "7e0496ef-6be0-4f00-a798-70a0f64c6077",
   "metadata": {},
   "source": [
    "\n",
    "> 제가 생각나는대로 계속 업데이트할게요.. \n"
   ]
  },
  {
   "cell_type": "markdown",
   "id": "e48fd79f-743a-4bec-b9e6-176521f4e14a",
   "metadata": {},
   "source": [
    "`-` 중간고사 풀이중 하니의 산책경로에서 _delta가 코드에 빠졌는데 강의영상을 보고 참고하시길 바랍니다. (제 실수로 빼먹었어요.. 추후 업데이트하도록 하겠습니다 --> 업데이트했어요) "
   ]
  },
  {
   "cell_type": "markdown",
   "id": "8f81f1c3-2598-4541-ae99-cf5437c4ff09",
   "metadata": {},
   "source": [
    "`-` 시험은 전 범위입니다. (기말고사 범위 위주로 문제가 나가긴 합니다)"
   ]
  },
  {
   "cell_type": "markdown",
   "id": "0495c8a0-962e-48e1-ba75-71e3bff85c1d",
   "metadata": {},
   "source": [
    "`-` ggplot을 이용한 고난도 문제가 출제될 수 있습니다. "
   ]
  },
  {
   "cell_type": "markdown",
   "id": "8ea81bf9-f947-43b5-8050-4d0f14346e92",
   "metadata": {},
   "source": [
    "`-` **지리정보시각화(지도가 포함된 시각화)** 는 미리 공개한 문제에서만 나옵니다. (따라서 예상문제를 보고 답안을 미리 작성해도 상관없습니다) "
   ]
  },
  {
   "cell_type": "markdown",
   "id": "b54ea82a-c2a5-45af-95ee-486e60fe1042",
   "metadata": {},
   "source": [
    "`-` 아래의 내용을 숙지하시길 바랍니다. \n",
    "- wideform / longform \n",
    "- stack(), reset_index(), melt(), set_index() \n",
    "- groupby() \n",
    "- map(), applymap(), lambda \n",
    "- pipe() "
   ]
  },
  {
   "cell_type": "markdown",
   "id": "34d91938-a184-4b71-8f06-030b1a23da7d",
   "metadata": {},
   "source": [
    "`-` pandas backend를 이용한 plot은 아주 잘 숙지하고 계셔야합니다. "
   ]
  },
  {
   "cell_type": "markdown",
   "id": "984efc92-a164-4cd9-92f5-0fb0b8cd1b76",
   "metadata": {},
   "source": [
    "`-` 중간고사와 비슷하게 대부분의 문제가 수업시간에 배운코드만 활용해서 풀 수 있습니다. 구글링을 하는것은 좋으나 시간관리에 부정적일 수 있으니 오픈북이라 하더라도 강의중에 배운 코드는 잘 숙지하시기 바랍니다. \n",
    "- 수업시간에 다루지 않은 코드를 써야하는 경우라면 제가 가급적 힌트를 넣도록 하겠습니다. "
   ]
  },
  {
   "cell_type": "markdown",
   "id": "622ca71b-199c-4557-bdde-9fc4d6999179",
   "metadata": {},
   "source": [
    "`-` 제가 직접 모든 문제를 출제하기 때문에 오타가 있을 수도 있고 명확하지 않은 표현이 있을수도 있습니다. 시험시간중 문제에 의문이 있으면 질문하시길 바랍니다. "
   ]
  },
  {
   "cell_type": "markdown",
   "id": "94825c3a-a7f4-4da9-9d41-3ee56ef9b01b",
   "metadata": {},
   "source": [
    "`-` 시험보기전에 예상문제에 대한 질문을 해도 괜찮습니다. (코드를 짜주진 않겠지만 error를 수정해드리거나 힌트를 드릴수는 있습니다) "
   ]
  }
 ],
 "metadata": {
  "kernelspec": {
   "display_name": "Python 3 (ipykernel)",
   "language": "python",
   "name": "python3"
  },
  "language_info": {
   "codemirror_mode": {
    "name": "ipython",
    "version": 3
   },
   "file_extension": ".py",
   "mimetype": "text/x-python",
   "name": "python",
   "nbconvert_exporter": "python",
   "pygments_lexer": "ipython3",
   "version": "3.8.12"
  }
 },
 "nbformat": 4,
 "nbformat_minor": 5
}
