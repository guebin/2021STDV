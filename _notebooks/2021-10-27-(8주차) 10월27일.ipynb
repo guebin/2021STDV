{
 "cells": [
  {
   "cell_type": "markdown",
   "id": "c33ad7be-2037-44f6-8cdc-49ff6ca68f5c",
   "metadata": {
    "tags": []
   },
   "source": [
    "# (8주차) 10월27일 \n",
    "> groupby \n",
    "\n",
    "- toc:true\n",
    "- branch: master\n",
    "- badges: true\n",
    "- comments: true\n",
    "- author: 최규빈"
   ]
  },
  {
   "cell_type": "markdown",
   "id": "c4c70e3d-72a3-41c8-a02e-00353f6aca0c",
   "metadata": {},
   "source": [
    "#### 숙제 "
   ]
  },
  {
   "cell_type": "markdown",
   "id": "5a4e3877-3b7f-4c05-a18d-c8db5e74b552",
   "metadata": {},
   "source": [
    "구간을 \n",
    "```\n",
    "bins=[-np.inf, 400, 700, 1200, np.inf]  \n",
    "```\n",
    "이 아니라 \n",
    "```\n",
    "bins=[-np.inf, 400, 600, 800, 1000, 1200, np.inf]  \n",
    "```\n",
    "와 같이 나누고 적당한 각구간별로 해당하는 관측치의 수를 구하라. "
   ]
  }
 ],
 "metadata": {
  "kernelspec": {
   "display_name": "Python 3 (ipykernel)",
   "language": "python",
   "name": "python3"
  },
  "language_info": {
   "codemirror_mode": {
    "name": "ipython",
    "version": 3
   },
   "file_extension": ".py",
   "mimetype": "text/x-python",
   "name": "python",
   "nbconvert_exporter": "python",
   "pygments_lexer": "ipython3",
   "version": "3.8.11"
  }
 },
 "nbformat": 4,
 "nbformat_minor": 5
}
