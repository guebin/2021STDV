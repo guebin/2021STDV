{
 "cells": [
  {
   "cell_type": "markdown",
   "id": "e42a7601-bace-4fdf-ac38-a6cf3e90e12d",
   "metadata": {
    "tags": []
   },
   "source": [
    "# 시험관련 안내사항\n",
    "> 시험유형, 시험시간, 시험실 입장, 시험문제 공개방식, 제출방식, 준비물, 준비사항, 유의사항\n",
    "\n",
    "- toc:true\n",
    "- branch: master\n",
    "- badges: true\n",
    "- comments: true\n",
    "- author: 최규빈"
   ]
  },
  {
   "cell_type": "markdown",
   "id": "96e1b28c-61e6-42a9-bad7-d54e567e10b0",
   "metadata": {
    "tags": []
   },
   "source": [
    "### 시험유형 \n"
   ]
  },
  {
   "cell_type": "markdown",
   "id": "94ddc9f9-b5c7-4406-b2ff-bca59d9c7a19",
   "metadata": {},
   "source": [
    "\n",
    "`-` 오픈북: 강의노트, 본인이 정리한 노트, 인터넷 검색 가능\n",
    "\n",
    "`-` 비대면: Zoom을 활용하여 응시"
   ]
  },
  {
   "cell_type": "markdown",
   "id": "f4a28b00-4112-4080-bdba-8f2805b7dbd5",
   "metadata": {},
   "source": [
    "### 시험시간 \n"
   ]
  },
  {
   "cell_type": "markdown",
   "id": "0ce1e5ef-6ac2-4633-99bb-53debb906347",
   "metadata": {},
   "source": [
    "\n",
    "`-` 일시: LMS를 통해 공지한 날의 수업시간\n",
    "\n",
    "`-` 시험시간 중 처음 30분은 장비점검시간으로 활용함 (단, 모든 사람이 준비될 경우 30분을 기다리지 않고 시작) "
   ]
  },
  {
   "cell_type": "markdown",
   "id": "d6a4df68-9eb3-4e92-ae3b-37db6d39e3e7",
   "metadata": {},
   "source": [
    "> Note: 따라서 2시간 수업일 경우 실질적으로 문제를 풀고 답안을 제출할때 까지 쓸 수 있는 시간은 1시간30분입니다."
   ]
  },
  {
   "cell_type": "markdown",
   "id": "d1b02de7-b2e9-4951-918a-2927172654c7",
   "metadata": {},
   "source": [
    "### 시험실 입장 "
   ]
  },
  {
   "cell_type": "markdown",
   "id": "b93646ce-6621-4607-b8ac-dddb81d5a50b",
   "metadata": {},
   "source": [
    "`-` LMS $\\to$ 강의대화 $\\to$ Zoom 화상강의 바로 가기로 입장"
   ]
  },
  {
   "cell_type": "markdown",
   "id": "686183e2-77d2-411e-9700-6a317272af36",
   "metadata": {},
   "source": [
    "> Note: 입장시 본인의 실명을 사용하셔야 합니다. "
   ]
  },
  {
   "cell_type": "markdown",
   "id": "5178b6ce-656d-483f-8fa2-2c966c972b1c",
   "metadata": {},
   "source": [
    "### 시험문제 공개방식 \n",
    "\n"
   ]
  },
  {
   "cell_type": "markdown",
   "id": "a47418e4-805c-4ada-b36d-e38e5334df70",
   "metadata": {},
   "source": [
    "`-` Zoom의 채팅기능을 통하여 시험문제의 URL을 공개"
   ]
  },
  {
   "cell_type": "markdown",
   "id": "938f7f9f-6871-43be-927a-3fe6f9ff1c40",
   "metadata": {},
   "source": [
    "### 제출방식 "
   ]
  },
  {
   "cell_type": "markdown",
   "id": "9fd7958e-f9b6-4893-a322-812caa5e8047",
   "metadata": {},
   "source": [
    "`-` LMS의 레포트 메뉴를 활용하여 답안지를 제출 (종료시간 이전에 미리 제출가능) "
   ]
  },
  {
   "cell_type": "markdown",
   "id": "fa8e831c-123a-4052-8765-1a9b02867023",
   "metadata": {},
   "source": [
    "### 준비물 "
   ]
  },
  {
   "cell_type": "markdown",
   "id": "2fa2454e-570f-4caf-9609-8832e32cb78a",
   "metadata": {},
   "source": [
    "`-` 컴퓨터 및 노트북: 시험지 확인 및 문제풀이 용도 "
   ]
  },
  {
   "cell_type": "markdown",
   "id": "467a09a9-e6cf-4272-8964-ed6e5306e793",
   "metadata": {},
   "source": [
    "`-` 핸드폰: 주변상황을 촬영하고 Zoom을 연결하는 용도 "
   ]
  },
  {
   "cell_type": "markdown",
   "id": "79dc1a77-16a8-4f6c-b332-9a3f572cbfea",
   "metadata": {},
   "source": [
    "> Note: 중간에 핸드폰 및 노트북이 꺼지지 않도록 배터리 충전기를 준비한다. "
   ]
  },
  {
   "cell_type": "markdown",
   "id": "17130966-ce4b-4fb9-b990-0d8227993d44",
   "metadata": {},
   "source": [
    "### 시험전 준비사항"
   ]
  },
  {
   "cell_type": "markdown",
   "id": "f38d7f4c-8a8c-4d8e-a014-d9c06666735e",
   "metadata": {},
   "source": [
    "`-` 시험준비시간 동안 핸드폰을 아래와 같이 배치하여 학생의 컴퓨터 화면 및 주변상황이 보이도록 함 \n",
    "\n",
    "![](img.png)\n",
    "\n",
    "> Note: 적절한 각도를 설정하기 어려운 경우 주변환경보다 컴퓨터의 화면이 잘 보이도록 설정할 것 "
   ]
  },
  {
   "cell_type": "markdown",
   "id": "e9781e44-83b4-4e62-aafc-d7a61fd698a8",
   "metadata": {},
   "source": [
    "`-` 학생증을 준비하여 시험 시작 직전에 본인의 얼굴과 학생증을 함께 촬영한다. (5초간) "
   ]
  },
  {
   "cell_type": "markdown",
   "id": "3e5b471d-d323-48fe-9690-70934a942820",
   "metadata": {},
   "source": [
    "### 유의사항"
   ]
  },
  {
   "cell_type": "markdown",
   "id": "e2b3a901-bb7a-4bef-99d2-21f7d39bec5b",
   "metadata": {},
   "source": [
    "`-` 질문은 카카오톡 채널을 활용한다. "
   ]
  },
  {
   "cell_type": "markdown",
   "id": "129738bf-6201-4b2f-ae38-19098048dca1",
   "metadata": {},
   "source": [
    "`-` Zoom에서 스피커 음소거를 하지 않는다. (전체 공지사항등이 있을때 음성으로 공지할 수 있음) "
   ]
  },
  {
   "cell_type": "markdown",
   "id": "690e866c-808e-4851-abaf-8d5e71c24bb2",
   "metadata": {},
   "source": [
    "`-` 핸드폰으로 Zoom참가 중 전화가 오면 거절하고 받지 않는다. (전화통화시 Zoom연결이 종료되므로 부정행위로 의심할 수 있음) "
   ]
  }
 ],
 "metadata": {
  "kernelspec": {
   "display_name": "Python 3",
   "language": "python",
   "name": "python3"
  },
  "language_info": {
   "codemirror_mode": {
    "name": "ipython",
    "version": 3
   },
   "file_extension": ".py",
   "mimetype": "text/x-python",
   "name": "python",
   "nbconvert_exporter": "python",
   "pygments_lexer": "ipython3",
   "version": "3.8.8"
  }
 },
 "nbformat": 4,
 "nbformat_minor": 5
}
